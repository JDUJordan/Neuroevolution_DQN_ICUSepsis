{
 "cells": [
  {
   "cell_type": "code",
   "execution_count": 2,
   "metadata": {},
   "outputs": [
    {
     "name": "stdout",
     "output_type": "stream",
     "text": [
      "2.2.3\n"
     ]
    }
   ],
   "source": [
    "import pandas as pd\n",
    "print(pd.__version__)"
   ]
  },
  {
   "cell_type": "code",
   "execution_count": 3,
   "metadata": {},
   "outputs": [
    {
     "data": {
      "text/plain": [
       "<All keys matched successfully>"
      ]
     },
     "execution_count": 3,
     "metadata": {},
     "output_type": "execute_result"
    }
   ],
   "source": [
    "import os\n",
    "import sys\n",
    "# Add the root directory to Python path\n",
    "root_dir = \"C:\\\\Users\\\\Jordan Lankford\\\\Documents\\\\GitHub\\\\choudhary2024icu\"\n",
    "if root_dir not in sys.path:\n",
    "    sys.path.append(root_dir)\n",
    "\n",
    "# Now imports should work\n",
    "from src.utils.utils import set_seeds\n",
    "import torch\n",
    "import torch.nn as nn\n",
    "import gymnasium as gym\n",
    "import numpy as np\n",
    "from src.utils.utils import set_seeds\n",
    "from torchsummary import summary\n",
    "\n",
    "def encode_state(obs, n_states):  # Modified to take n_states as parameter\n",
    "    obs = torch.Tensor(obs)\n",
    "    return nn.functional.one_hot(obs.long(), n_states).float()\n",
    "\n",
    "def get_mask(info, n_actions=25):\n",
    "    allowed_actions = info['admissible_actions']\n",
    "    mask = np.zeros(n_actions)\n",
    "    mask[allowed_actions] = 1\n",
    "    return torch.Tensor(mask).unsqueeze(0)\n",
    "\n",
    "class QNetwork(nn.Module):\n",
    "    def __init__(self, env):\n",
    "        super().__init__()\n",
    "        self.n_states = env.observation_space.n\n",
    "        self.n_actions = env.action_space.n\n",
    "        self.network = nn.Linear(self.n_states, self.n_actions, bias=False)\n",
    "        torch.nn.init.constant_(self.network.weight, 0.0)\n",
    "\n",
    "    def forward(self, x, action_masks=None):\n",
    "        q_values = self.network(x)\n",
    "        if action_masks is not None:\n",
    "            q_values = q_values - ((1 - action_masks) * 1e10)\n",
    "        return q_values\n",
    "    \n",
    "\n",
    "env = gym.make('Sepsis/ICU-Sepsis-v2')\n",
    "    \n",
    "    # Create network and load weights\n",
    "q_network = QNetwork(env)\n",
    "state_dict = torch.load(r\"C:\\Users\\Jordan Lankford\\Documents\\GitHub\\choudhary2024icu\\models\\dqn\\dqn_seed_0_episode_499900.pt\")\n",
    "q_network.load_state_dict(state_dict)"
   ]
  },
  {
   "cell_type": "code",
   "execution_count": null,
   "metadata": {},
   "outputs": [],
   "source": []
  },
  {
   "cell_type": "code",
   "execution_count": 4,
   "metadata": {},
   "outputs": [
    {
     "name": "stdout",
     "output_type": "stream",
     "text": [
      "[torch.Size([25, 716])]\n"
     ]
    }
   ],
   "source": [
    "weight_shapes = []\n",
    "for param in q_network.parameters():\n",
    "    weight_shapes.append(param.shape)\n",
    "print(weight_shapes)\n"
   ]
  },
  {
   "cell_type": "code",
   "execution_count": 5,
   "metadata": {},
   "outputs": [
    {
     "name": "stdout",
     "output_type": "stream",
     "text": [
      "[17900]\n"
     ]
    }
   ],
   "source": [
    "values_in_dimension=[]\n",
    "for shape in weight_shapes:\n",
    "    values_in_dimension.append(np.prod(shape))\n",
    "print(values_in_dimension)"
   ]
  },
  {
   "cell_type": "code",
   "execution_count": 6,
   "metadata": {},
   "outputs": [],
   "source": [
    "weights = [param.detach().numpy() for param in q_network.parameters()]  # Get all model weights as numpy arrays\n"
   ]
  },
  {
   "cell_type": "code",
   "execution_count": 15,
   "metadata": {},
   "outputs": [],
   "source": [
    "import torch\n",
    "import torch.nn as nn\n",
    "import numpy as np\n",
    "import gymnasium as gym\n",
    "from torchsummary import summary\n",
    "\n",
    "# Assuming QNetwork and set_seeds are defined earlier in the code\n",
    "# Assuming the reshape function is defined as needed\n",
    "\n",
    "\n",
    "def f(fly, flies_history, model=q_network,env=env):\n",
    "    # Clone the model (you don't really need to clone in PyTorch, just create a new instance)\n",
    "    cloned_model = q_network\n",
    "    \n",
    "    # Reshape fly's weights to match the model's weight shape\n",
    "    reshaped_fly = reshape_to_model_weights(fly, model)\n",
    "    \n",
    "    # Load the reshaped weights into the cloned model\n",
    "    cloned_model.load_state_dict(dict(zip([name for name, _ in cloned_model.named_parameters()], reshaped_fly)))\n",
    "\n",
    "    # Set the model to evaluation mode\n",
    "    cloned_model.eval()\n",
    "\n",
    "    # Run the evaluation (similar to what is done in evaluate_network)\n",
    "    episode_rewards = []\n",
    "    episode_lengths = []\n",
    "    \n",
    "    num_episodes = 10000  # or any other number you'd like to test  USE 100000 FOR STABAL ISH\n",
    "    for episode in range(num_episodes):\n",
    "        state, info = env.reset()\n",
    "        episode_reward = 0\n",
    "        steps = 0\n",
    "        done = False\n",
    "        \n",
    "        while not done:\n",
    "            state_encoded = encode_state(np.array([state]), env.observation_space.n)\n",
    "            action_mask = get_mask(info, n_actions=env.action_space.n)\n",
    "            \n",
    "            with torch.no_grad():\n",
    "                q_values = cloned_model(state_encoded, action_mask)\n",
    "                action = torch.argmax(q_values).item()\n",
    "            \n",
    "            next_state, reward, terminated, truncated, info = env.step(action)\n",
    "            episode_reward += reward\n",
    "            steps += 1\n",
    "            state = next_state\n",
    "            done = terminated or truncated\n",
    "\n",
    "        episode_rewards.append(episode_reward)\n",
    "        episode_lengths.append(steps)\n",
    "    \n",
    "\n",
    "    fitness = np.mean(episode_rewards)\n",
    "    # Return the average reward (or any other metric you want)\n",
    "    return f_avrg(fitness, flies_history)\n",
    "    #return -fitness\n"
   ]
  },
  {
   "cell_type": "code",
   "execution_count": 9,
   "metadata": {},
   "outputs": [],
   "source": [
    "def reshape_to_model_weights(flattened_fly, model=q_network):\n",
    "    # List to store reshaped weights\n",
    "    reshaped_weights = []\n",
    "    counter = 0  # Counter for elements in fly\n",
    "    \n",
    "    # Get the shapes of the model's parameters\n",
    "    values_in_dimension = [param.numel() for param in model.parameters()]\n",
    "    weight_shapes = [param.shape for param in model.parameters()]\n",
    "    \n",
    "    for i in range(len(values_in_dimension)):\n",
    "        # Get the flattened weights for this layer\n",
    "        weight_flat = flattened_fly[counter: counter + values_in_dimension[i]]\n",
    "        \n",
    "        # Reshape and convert to torch.Tensor\n",
    "        reshaped_layer_weights = torch.tensor(weight_flat, dtype=torch.float32).reshape(weight_shapes[i])\n",
    "        \n",
    "        # Append the reshaped weight to the list\n",
    "        reshaped_weights.append(reshaped_layer_weights)\n",
    "        \n",
    "        # Move the counter to the next parameter block\n",
    "        counter += values_in_dimension[i]\n",
    "    \n",
    "    return reshaped_weights\n"
   ]
  },
  {
   "cell_type": "code",
   "execution_count": 10,
   "metadata": {},
   "outputs": [],
   "source": [
    "def initialize_flies_from_model(number_of_flies, weights, model, inclusive):\n",
    "    population = []\n",
    "\n",
    "    if inclusive == False:\n",
    "        for i in range(number_of_flies):\n",
    "            fly = []  # This will hold the flattened weights for a single fly\n",
    "            \n",
    "            for param in model.parameters():  # Iterate through model parameters (weights and biases)\n",
    "                # Generate random weights with the same shape as the model's weight matrix\n",
    "                scalers = np.random.uniform(0.9, 1.1, size=param.shape)\n",
    "                print(param.shape)  # Print the shape to see what the weights look like\n",
    "                scaledweights = param.detach().numpy() * scalers  # Multiply the weight values by the scalers\n",
    "                \n",
    "                # Flatten the random weights and add them to the fly\n",
    "                flattened_weights = scaledweights.flatten()\n",
    "                fly.append(flattened_weights)\n",
    "            \n",
    "            # After flattening each layer's weights, flatten the entire fly and add to population\n",
    "            population.append(np.concatenate(fly))  # Concatenate the list of flattened weight arrays\n",
    "            \n",
    "    if inclusive == True:\n",
    "        for i in range(number_of_flies):\n",
    "            fly = []  # This will hold the flattened weights for a single fly\n",
    "            \n",
    "            for param in model.parameters():  # Iterate through model parameters (weights and biases)\n",
    "                if i == 0:\n",
    "                    flattened_weights = param.detach().numpy().flatten()  # Get the flattened weights for the first fly\n",
    "                    fly.append(flattened_weights)\n",
    "                else:\n",
    "                    scalers = np.random.uniform(0.9, 1.1, size=param.shape)\n",
    "                    print(param.shape)  # Print the shape to see what the weights look like\n",
    "                    scaledweights = param.detach().numpy() * scalers  # Multiply the weight values by the scalers\n",
    "                    \n",
    "                    # Flatten the random weights and add them to the fly\n",
    "                    flattened_weights = scaledweights.flatten()\n",
    "                    fly.append(flattened_weights)\n",
    "                \n",
    "            # After flattening each layer's weights, flatten the entire fly and add to population\n",
    "            population.append(np.concatenate(fly))  # Concatenate the list of flattened weight arrays\n",
    "        \n",
    "    return population\n"
   ]
  },
  {
   "cell_type": "code",
   "execution_count": 22,
   "metadata": {},
   "outputs": [
    {
     "name": "stdout",
     "output_type": "stream",
     "text": [
      "torch.Size([25, 716])\n",
      "torch.Size([25, 716])\n",
      "torch.Size([25, 716])\n",
      "torch.Size([25, 716])\n",
      "torch.Size([25, 716])\n",
      "torch.Size([25, 716])\n",
      "torch.Size([25, 716])\n",
      "torch.Size([25, 716])\n",
      "torch.Size([25, 716])\n"
     ]
    }
   ],
   "source": [
    "num_of_flies = 10\n",
    "\n",
    "flies = initialize_flies_from_model(num_of_flies,weights,q_network,True)\n",
    "\n",
    "\n",
    "\n",
    "from collections import deque\n",
    "max_history = 5\n",
    "flies_history = [deque(maxlen=max_history) for _ in range(num_of_flies)]"
   ]
  },
  {
   "cell_type": "code",
   "execution_count": 24,
   "metadata": {},
   "outputs": [
    {
     "name": "stdout",
     "output_type": "stream",
     "text": [
      "deque([], maxlen=5)\n"
     ]
    }
   ],
   "source": [
    "print(flies_history[0])"
   ]
  },
  {
   "cell_type": "code",
   "execution_count": 12,
   "metadata": {},
   "outputs": [],
   "source": [
    "def f_avrg(fitness, flies_history):\n",
    "\n",
    "    flies_history.append(fitness)\n",
    "\n",
    "\n",
    "    return sum(fitness_history) / len(fitness_history) # mean\n",
    "    "
   ]
  },
  {
   "cell_type": "code",
   "execution_count": 13,
   "metadata": {},
   "outputs": [
    {
     "ename": "TypeError",
     "evalue": "unsupported operand type(s) for +: 'int' and 'function'",
     "output_type": "error",
     "traceback": [
      "\u001b[1;31m---------------------------------------------------------------------------\u001b[0m",
      "\u001b[1;31mTypeError\u001b[0m                                 Traceback (most recent call last)",
      "Cell \u001b[1;32mIn[13], line 1\u001b[0m\n\u001b[1;32m----> 1\u001b[0m \u001b[43mf_avrg\u001b[49m\u001b[43m(\u001b[49m\u001b[43mf\u001b[49m\u001b[43m)\u001b[49m\n",
      "Cell \u001b[1;32mIn[12], line 12\u001b[0m, in \u001b[0;36mf_avrg\u001b[1;34m(fitness)\u001b[0m\n\u001b[0;32m      8\u001b[0m \u001b[38;5;66;03m# Add numbers to the list\u001b[39;00m\n\u001b[0;32m      9\u001b[0m rolling_list\u001b[38;5;241m.\u001b[39mappend(fitness)\n\u001b[1;32m---> 12\u001b[0m \u001b[38;5;28;01mreturn\u001b[39;00m \u001b[38;5;28;43msum\u001b[39;49m\u001b[43m(\u001b[49m\u001b[43mrolling_list\u001b[49m\u001b[43m)\u001b[49m \u001b[38;5;241m/\u001b[39m \u001b[38;5;28mlen\u001b[39m(rolling_list)\n",
      "\u001b[1;31mTypeError\u001b[0m: unsupported operand type(s) for +: 'int' and 'function'"
     ]
    }
   ],
   "source": [
    "f_avrg(f)"
   ]
  },
  {
   "cell_type": "code",
   "execution_count": 19,
   "metadata": {},
   "outputs": [
    {
     "data": {
      "text/plain": [
       "-0.8561"
      ]
     },
     "execution_count": 19,
     "metadata": {},
     "output_type": "execute_result"
    }
   ],
   "source": [
    "f(flies[0])"
   ]
  },
  {
   "cell_type": "code",
   "execution_count": 10,
   "metadata": {},
   "outputs": [
    {
     "data": {
      "text/plain": [
       "17900"
      ]
     },
     "execution_count": 10,
     "metadata": {},
     "output_type": "execute_result"
    }
   ],
   "source": [
    "len(flies[0])"
   ]
  },
  {
   "cell_type": "code",
   "execution_count": 15,
   "metadata": {},
   "outputs": [],
   "source": [
    "N = len(flies)\t\t\t# POPULATION SIZE\n",
    "D = len(flies[0])\t\t\t\t\t# DIMENSIONALITY \n",
    "delta = 0.005\t\t\t# DISTURBANCE THRESHOLD \n",
    "maxIterations = 1000\t# ITERATIONS ALLOWED"
   ]
  },
  {
   "cell_type": "code",
   "execution_count": 16,
   "metadata": {},
   "outputs": [],
   "source": [
    "# MAIN DFO LOOP\n",
    "\n",
    "\n",
    "def DFO(start_flies):\n",
    "\tcounter = 0\n",
    "\tX = start_flies\n",
    "\tfitness = [None]*len(start_flies) \n",
    "\n",
    "\tfor itr in range (maxIterations):\n",
    "\t\tfor i in range(N): # EVALUATION --- 10 needs to be the population size\n",
    "\t\t\tfitness[i] = f(X[i])\n",
    "\t\ts = np.argmin(fitness) # FIND BEST FLY\n",
    "\n",
    "\t\n",
    "\t\t\t\n",
    "\t\t\n",
    "\t\t#fitness_history.append(fitness[s])\n",
    "\t\t#delta_history.append(delta)\n",
    "\n",
    "\t\tif (itr%1 == 0): # PRINT BEST FLY EVERY 100 ITERATIONS\n",
    "\t\t\tprint (\"Iteration:\", itr, \"\\tBest fly index:\", s, \n",
    "\t\t\t\t\"\\tFitness value:\", fitness[s], \"delta: \", delta, \"counter: \", counter)\n",
    "\n",
    "\t\t# TAKE EACH FLY INDIVIDUALLY \n",
    "\t\tfor i in range(N): \n",
    "\t\t\tif i == s: continue # ELITIST STRATEGY\n",
    "\n",
    "\t\t\t# FIND BEST NEIGHBOUR\n",
    "\t\t\tleft = (i-1)%N\n",
    "\t\t\tright = (i+1)%N\n",
    "\t\t\tbNeighbour = right if fitness[right]<fitness[left] else left\n",
    "\n",
    "\t\t\tfor d in range(D): # UPDATE EACH DIMENSION SEPARATELY \n",
    "\t\t\t\tif (np.random.rand() < delta):\n",
    "\t\t\t\t\tX[i][d] = np.random.normal(loc=X[bNeighbour][d], scale=(delta))\n",
    "\t\t\t\t\t#X[i][d] = np.random.normal(loc=X[bNeighbour][d], scale=(delta**2.0))\t#update between a normal distribution with the mean set to the best neighbours location using a SD of delta squared\n",
    "\t\t\t\t\tcontinue;\n",
    "\n",
    "\t\t\t\tu = np.random.rand()\n",
    "\t\t\t\tX[i][d] = X[bNeighbour][d] + u*(X[s][d] - X[bNeighbour][d])\t#standard fucntion uses current fly location, update will be a seflless method using the best neighbor \n",
    "\n",
    "\t\t\t\t# OUT OF BOUND CONTROL\n",
    "\t\t\t\t#if X[i][d] < lowerB[d] or X[i][d] > upperB[d]:\n",
    "\t\t\t\t\t#X[i][d] = np.random.uniform(lowerB[d], upperB[d])\n",
    "\n",
    "\tfor i in range(N): fitness[i] = f(X[i]) # EVALUATION\n",
    "\tnew_s = np.argmin(fitness) # FIND BEST FLY\n",
    "\ts = new_s\n",
    "\treturn(X[s])\n",
    "\n",
    "#print(\"\\nFinal best fitness:\\t\", fitness[s])\n",
    "#print(\"\\nBest fly position:\\n\",  X[s])\t"
   ]
  },
  {
   "cell_type": "code",
   "execution_count": 17,
   "metadata": {},
   "outputs": [
    {
     "name": "stdout",
     "output_type": "stream",
     "text": [
      "Iteration: 0 \tBest fly index: 9 \tFitness value: -0.841 delta:  0.005 counter:  0\n",
      "Iteration: 1 \tBest fly index: 6 \tFitness value: -0.845 delta:  0.005 counter:  0\n",
      "Iteration: 2 \tBest fly index: 6 \tFitness value: -0.839 delta:  0.005 counter:  0\n",
      "Iteration: 3 \tBest fly index: 8 \tFitness value: -0.847 delta:  0.005 counter:  0\n",
      "Iteration: 4 \tBest fly index: 8 \tFitness value: -0.841 delta:  0.005 counter:  0\n",
      "Iteration: 5 \tBest fly index: 3 \tFitness value: -0.843 delta:  0.005 counter:  0\n",
      "Iteration: 6 \tBest fly index: 5 \tFitness value: -0.843 delta:  0.005 counter:  0\n",
      "Iteration: 7 \tBest fly index: 2 \tFitness value: -0.861 delta:  0.005 counter:  0\n",
      "Iteration: 8 \tBest fly index: 3 \tFitness value: -0.85 delta:  0.005 counter:  0\n",
      "Iteration: 9 \tBest fly index: 9 \tFitness value: -0.842 delta:  0.005 counter:  0\n",
      "Iteration: 10 \tBest fly index: 7 \tFitness value: -0.861 delta:  0.005 counter:  0\n",
      "Iteration: 11 \tBest fly index: 9 \tFitness value: -0.844 delta:  0.005 counter:  0\n",
      "Iteration: 12 \tBest fly index: 4 \tFitness value: -0.848 delta:  0.005 counter:  0\n",
      "Iteration: 13 \tBest fly index: 2 \tFitness value: -0.844 delta:  0.005 counter:  0\n",
      "Iteration: 14 \tBest fly index: 3 \tFitness value: -0.857 delta:  0.005 counter:  0\n",
      "Iteration: 15 \tBest fly index: 5 \tFitness value: -0.846 delta:  0.005 counter:  0\n",
      "Iteration: 16 \tBest fly index: 1 \tFitness value: -0.851 delta:  0.005 counter:  0\n",
      "Iteration: 17 \tBest fly index: 4 \tFitness value: -0.857 delta:  0.005 counter:  0\n",
      "Iteration: 18 \tBest fly index: 4 \tFitness value: -0.847 delta:  0.005 counter:  0\n",
      "Iteration: 19 \tBest fly index: 3 \tFitness value: -0.847 delta:  0.005 counter:  0\n",
      "Iteration: 20 \tBest fly index: 7 \tFitness value: -0.841 delta:  0.005 counter:  0\n",
      "Iteration: 21 \tBest fly index: 0 \tFitness value: -0.837 delta:  0.005 counter:  0\n",
      "Iteration: 22 \tBest fly index: 2 \tFitness value: -0.845 delta:  0.005 counter:  0\n",
      "Iteration: 23 \tBest fly index: 5 \tFitness value: -0.844 delta:  0.005 counter:  0\n",
      "Iteration: 24 \tBest fly index: 3 \tFitness value: -0.858 delta:  0.005 counter:  0\n",
      "Iteration: 25 \tBest fly index: 3 \tFitness value: -0.867 delta:  0.005 counter:  0\n",
      "Iteration: 26 \tBest fly index: 7 \tFitness value: -0.845 delta:  0.005 counter:  0\n",
      "Iteration: 27 \tBest fly index: 4 \tFitness value: -0.853 delta:  0.005 counter:  0\n",
      "Iteration: 28 \tBest fly index: 0 \tFitness value: -0.855 delta:  0.005 counter:  0\n",
      "Iteration: 29 \tBest fly index: 3 \tFitness value: -0.842 delta:  0.005 counter:  0\n",
      "Iteration: 30 \tBest fly index: 4 \tFitness value: -0.859 delta:  0.005 counter:  0\n",
      "Iteration: 31 \tBest fly index: 6 \tFitness value: -0.857 delta:  0.005 counter:  0\n",
      "Iteration: 32 \tBest fly index: 0 \tFitness value: -0.849 delta:  0.005 counter:  0\n",
      "Iteration: 33 \tBest fly index: 2 \tFitness value: -0.851 delta:  0.005 counter:  0\n",
      "Iteration: 34 \tBest fly index: 9 \tFitness value: -0.851 delta:  0.005 counter:  0\n",
      "Iteration: 35 \tBest fly index: 8 \tFitness value: -0.852 delta:  0.005 counter:  0\n",
      "Iteration: 36 \tBest fly index: 1 \tFitness value: -0.836 delta:  0.005 counter:  0\n",
      "Iteration: 37 \tBest fly index: 1 \tFitness value: -0.837 delta:  0.005 counter:  0\n",
      "Iteration: 38 \tBest fly index: 2 \tFitness value: -0.838 delta:  0.005 counter:  0\n",
      "Iteration: 39 \tBest fly index: 2 \tFitness value: -0.843 delta:  0.005 counter:  0\n",
      "Iteration: 40 \tBest fly index: 6 \tFitness value: -0.847 delta:  0.005 counter:  0\n",
      "Iteration: 41 \tBest fly index: 5 \tFitness value: -0.847 delta:  0.005 counter:  0\n",
      "Iteration: 42 \tBest fly index: 1 \tFitness value: -0.849 delta:  0.005 counter:  0\n",
      "Iteration: 43 \tBest fly index: 7 \tFitness value: -0.841 delta:  0.005 counter:  0\n",
      "Iteration: 44 \tBest fly index: 0 \tFitness value: -0.852 delta:  0.005 counter:  0\n",
      "Iteration: 45 \tBest fly index: 6 \tFitness value: -0.853 delta:  0.005 counter:  0\n",
      "Iteration: 46 \tBest fly index: 6 \tFitness value: -0.846 delta:  0.005 counter:  0\n",
      "Iteration: 47 \tBest fly index: 3 \tFitness value: -0.849 delta:  0.005 counter:  0\n",
      "Iteration: 48 \tBest fly index: 4 \tFitness value: -0.844 delta:  0.005 counter:  0\n",
      "Iteration: 49 \tBest fly index: 3 \tFitness value: -0.848 delta:  0.005 counter:  0\n",
      "Iteration: 50 \tBest fly index: 3 \tFitness value: -0.851 delta:  0.005 counter:  0\n",
      "Iteration: 51 \tBest fly index: 9 \tFitness value: -0.854 delta:  0.005 counter:  0\n",
      "Iteration: 52 \tBest fly index: 0 \tFitness value: -0.836 delta:  0.005 counter:  0\n",
      "Iteration: 53 \tBest fly index: 0 \tFitness value: -0.84 delta:  0.005 counter:  0\n",
      "Iteration: 54 \tBest fly index: 7 \tFitness value: -0.848 delta:  0.005 counter:  0\n",
      "Iteration: 55 \tBest fly index: 0 \tFitness value: -0.851 delta:  0.005 counter:  0\n",
      "Iteration: 56 \tBest fly index: 2 \tFitness value: -0.836 delta:  0.005 counter:  0\n",
      "Iteration: 57 \tBest fly index: 0 \tFitness value: -0.856 delta:  0.005 counter:  0\n",
      "Iteration: 58 \tBest fly index: 9 \tFitness value: -0.847 delta:  0.005 counter:  0\n",
      "Iteration: 59 \tBest fly index: 2 \tFitness value: -0.852 delta:  0.005 counter:  0\n",
      "Iteration: 60 \tBest fly index: 5 \tFitness value: -0.848 delta:  0.005 counter:  0\n",
      "Iteration: 61 \tBest fly index: 7 \tFitness value: -0.831 delta:  0.005 counter:  0\n",
      "Iteration: 62 \tBest fly index: 5 \tFitness value: -0.841 delta:  0.005 counter:  0\n",
      "Iteration: 63 \tBest fly index: 7 \tFitness value: -0.847 delta:  0.005 counter:  0\n",
      "Iteration: 64 \tBest fly index: 0 \tFitness value: -0.849 delta:  0.005 counter:  0\n",
      "Iteration: 65 \tBest fly index: 6 \tFitness value: -0.851 delta:  0.005 counter:  0\n",
      "Iteration: 66 \tBest fly index: 6 \tFitness value: -0.85 delta:  0.005 counter:  0\n",
      "Iteration: 67 \tBest fly index: 8 \tFitness value: -0.854 delta:  0.005 counter:  0\n",
      "Iteration: 68 \tBest fly index: 2 \tFitness value: -0.843 delta:  0.005 counter:  0\n",
      "Iteration: 69 \tBest fly index: 2 \tFitness value: -0.842 delta:  0.005 counter:  0\n",
      "Iteration: 70 \tBest fly index: 3 \tFitness value: -0.859 delta:  0.005 counter:  0\n",
      "Iteration: 71 \tBest fly index: 5 \tFitness value: -0.839 delta:  0.005 counter:  0\n",
      "Iteration: 72 \tBest fly index: 1 \tFitness value: -0.842 delta:  0.005 counter:  0\n",
      "Iteration: 73 \tBest fly index: 0 \tFitness value: -0.843 delta:  0.005 counter:  0\n",
      "Iteration: 74 \tBest fly index: 3 \tFitness value: -0.843 delta:  0.005 counter:  0\n",
      "Iteration: 75 \tBest fly index: 8 \tFitness value: -0.836 delta:  0.005 counter:  0\n",
      "Iteration: 76 \tBest fly index: 5 \tFitness value: -0.852 delta:  0.005 counter:  0\n",
      "Iteration: 77 \tBest fly index: 8 \tFitness value: -0.842 delta:  0.005 counter:  0\n",
      "Iteration: 78 \tBest fly index: 8 \tFitness value: -0.858 delta:  0.005 counter:  0\n",
      "Iteration: 79 \tBest fly index: 0 \tFitness value: -0.838 delta:  0.005 counter:  0\n",
      "Iteration: 80 \tBest fly index: 8 \tFitness value: -0.84 delta:  0.005 counter:  0\n",
      "Iteration: 81 \tBest fly index: 7 \tFitness value: -0.849 delta:  0.005 counter:  0\n",
      "Iteration: 82 \tBest fly index: 3 \tFitness value: -0.837 delta:  0.005 counter:  0\n",
      "Iteration: 83 \tBest fly index: 0 \tFitness value: -0.85 delta:  0.005 counter:  0\n",
      "Iteration: 84 \tBest fly index: 2 \tFitness value: -0.842 delta:  0.005 counter:  0\n",
      "Iteration: 85 \tBest fly index: 9 \tFitness value: -0.859 delta:  0.005 counter:  0\n",
      "Iteration: 86 \tBest fly index: 7 \tFitness value: -0.851 delta:  0.005 counter:  0\n",
      "Iteration: 87 \tBest fly index: 4 \tFitness value: -0.839 delta:  0.005 counter:  0\n",
      "Iteration: 88 \tBest fly index: 0 \tFitness value: -0.835 delta:  0.005 counter:  0\n",
      "Iteration: 89 \tBest fly index: 2 \tFitness value: -0.849 delta:  0.005 counter:  0\n",
      "Iteration: 90 \tBest fly index: 6 \tFitness value: -0.842 delta:  0.005 counter:  0\n",
      "Iteration: 91 \tBest fly index: 6 \tFitness value: -0.842 delta:  0.005 counter:  0\n",
      "Iteration: 92 \tBest fly index: 8 \tFitness value: -0.842 delta:  0.005 counter:  0\n",
      "Iteration: 93 \tBest fly index: 3 \tFitness value: -0.842 delta:  0.005 counter:  0\n"
     ]
    },
    {
     "ename": "KeyboardInterrupt",
     "evalue": "",
     "output_type": "error",
     "traceback": [
      "\u001b[1;31m---------------------------------------------------------------------------\u001b[0m",
      "\u001b[1;31mKeyboardInterrupt\u001b[0m                         Traceback (most recent call last)",
      "Cell \u001b[1;32mIn[17], line 1\u001b[0m\n\u001b[1;32m----> 1\u001b[0m newweihgts \u001b[38;5;241m=\u001b[39m \u001b[43mDFO\u001b[49m\u001b[43m(\u001b[49m\u001b[43mflies\u001b[49m\u001b[43m)\u001b[49m\n",
      "Cell \u001b[1;32mIn[16], line 11\u001b[0m, in \u001b[0;36mDFO\u001b[1;34m(start_flies)\u001b[0m\n\u001b[0;32m      9\u001b[0m \u001b[38;5;28;01mfor\u001b[39;00m itr \u001b[38;5;129;01min\u001b[39;00m \u001b[38;5;28mrange\u001b[39m (maxIterations):\n\u001b[0;32m     10\u001b[0m \t\u001b[38;5;28;01mfor\u001b[39;00m i \u001b[38;5;129;01min\u001b[39;00m \u001b[38;5;28mrange\u001b[39m(N): \u001b[38;5;66;03m# EVALUATION --- 10 needs to be the population size\u001b[39;00m\n\u001b[1;32m---> 11\u001b[0m \t\tfitness[i] \u001b[38;5;241m=\u001b[39m \u001b[43mf\u001b[49m\u001b[43m(\u001b[49m\u001b[43mX\u001b[49m\u001b[43m[\u001b[49m\u001b[43mi\u001b[49m\u001b[43m]\u001b[49m\u001b[43m)\u001b[49m\n\u001b[0;32m     12\u001b[0m \ts \u001b[38;5;241m=\u001b[39m np\u001b[38;5;241m.\u001b[39margmin(fitness) \u001b[38;5;66;03m# FIND BEST FLY\u001b[39;00m\n\u001b[0;32m     17\u001b[0m \t\u001b[38;5;66;03m#fitness_history.append(fitness[s])\u001b[39;00m\n\u001b[0;32m     18\u001b[0m \t\u001b[38;5;66;03m#delta_history.append(delta)\u001b[39;00m\n",
      "Cell \u001b[1;32mIn[5], line 37\u001b[0m, in \u001b[0;36mf\u001b[1;34m(fly, model, env)\u001b[0m\n\u001b[0;32m     35\u001b[0m \u001b[38;5;28;01mwhile\u001b[39;00m \u001b[38;5;129;01mnot\u001b[39;00m done:\n\u001b[0;32m     36\u001b[0m     state_encoded \u001b[38;5;241m=\u001b[39m encode_state(np\u001b[38;5;241m.\u001b[39marray([state]), env\u001b[38;5;241m.\u001b[39mobservation_space\u001b[38;5;241m.\u001b[39mn)\n\u001b[1;32m---> 37\u001b[0m     action_mask \u001b[38;5;241m=\u001b[39m \u001b[43mget_mask\u001b[49m\u001b[43m(\u001b[49m\u001b[43minfo\u001b[49m\u001b[43m,\u001b[49m\u001b[43m \u001b[49m\u001b[43mn_actions\u001b[49m\u001b[38;5;241;43m=\u001b[39;49m\u001b[43menv\u001b[49m\u001b[38;5;241;43m.\u001b[39;49m\u001b[43maction_space\u001b[49m\u001b[38;5;241;43m.\u001b[39;49m\u001b[43mn\u001b[49m\u001b[43m)\u001b[49m\n\u001b[0;32m     39\u001b[0m     \u001b[38;5;28;01mwith\u001b[39;00m torch\u001b[38;5;241m.\u001b[39mno_grad():\n\u001b[0;32m     40\u001b[0m         q_values \u001b[38;5;241m=\u001b[39m cloned_model(state_encoded, action_mask)\n",
      "Cell \u001b[1;32mIn[1], line 25\u001b[0m, in \u001b[0;36mget_mask\u001b[1;34m(info, n_actions)\u001b[0m\n\u001b[0;32m     23\u001b[0m mask \u001b[38;5;241m=\u001b[39m np\u001b[38;5;241m.\u001b[39mzeros(n_actions)\n\u001b[0;32m     24\u001b[0m mask[allowed_actions] \u001b[38;5;241m=\u001b[39m \u001b[38;5;241m1\u001b[39m\n\u001b[1;32m---> 25\u001b[0m \u001b[38;5;28;01mreturn\u001b[39;00m \u001b[43mtorch\u001b[49m\u001b[38;5;241;43m.\u001b[39;49m\u001b[43mTensor\u001b[49m\u001b[43m(\u001b[49m\u001b[43mmask\u001b[49m\u001b[43m)\u001b[49m\u001b[38;5;241m.\u001b[39munsqueeze(\u001b[38;5;241m0\u001b[39m)\n",
      "\u001b[1;31mKeyboardInterrupt\u001b[0m: "
     ]
    }
   ],
   "source": [
    "newweihgts = DFO(flies)\n"
   ]
  }
 ],
 "metadata": {
  "kernelspec": {
   "display_name": "Python 3",
   "language": "python",
   "name": "python3"
  },
  "language_info": {
   "codemirror_mode": {
    "name": "ipython",
    "version": 3
   },
   "file_extension": ".py",
   "mimetype": "text/x-python",
   "name": "python",
   "nbconvert_exporter": "python",
   "pygments_lexer": "ipython3",
   "version": "3.11.9"
  }
 },
 "nbformat": 4,
 "nbformat_minor": 2
}
